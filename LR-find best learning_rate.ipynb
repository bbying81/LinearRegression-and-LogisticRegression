{
 "cells": [
  {
   "cell_type": "code",
   "execution_count": 5,
   "metadata": {},
   "outputs": [],
   "source": [
    "#find best learning_rate\n",
    "\n",
    "import numpy as np\n",
    "import random\n",
    "import matplotlib.pyplot as plt\n",
    "from matplotlib.pyplot import plot,savefig\n",
    "\n",
    "def inference(w, b, x):        # inference, test, predict, same thing. Run model after training\n",
    "    pred_y = w * x + b\n",
    "    return pred_y\n",
    "\n",
    "def eval_loss(w, b, x_list, gt_y_list):\n",
    "    avg_loss = 0.0\n",
    "    avg_loss = 0.5*np.sum((w*x_list + b - gt_y_list)**2) # loss function\n",
    "    avg_loss /= len(gt_y_list)\n",
    "    return avg_loss\n",
    "\n",
    "def gradient(pred_y, gt_y, x):\n",
    "    diff = pred_y - gt_y\n",
    "    dw = diff * x\n",
    "    db = diff\n",
    "    return dw, db\n",
    "\n",
    "def cal_step_gradient(batch_x_list, batch_gt_y_list, w, b, lr):\n",
    "    avg_dw, avg_db = 0, 0\n",
    "    batch_size = len(batch_x_list)\n",
    "    #print(bat)\n",
    "    pred_y = inference(w,b,batch_x_list)    #get label data\n",
    "    dw,db = gradient(pred_y,batch_gt_y_list,batch_x_list)\n",
    "    avg_dw = np.sum(dw) / batch_size\n",
    "    avg_db = np.sum(db) / batch_size\n",
    "    w -= lr * avg_dw\n",
    "    b -= lr * avg_db\n",
    "    return w,b\n",
    "    \n",
    "\n",
    "def train(x_list, gt_y_list, batch_size, lr, max_iter):\n",
    "    w = 0\n",
    "    b = 0\n",
    "    num_samples = len(x_list)\n",
    "    loss = [eval_loss(w, b, x_list, gt_y_list)]\n",
    "    for i in range(max_iter):\n",
    "        batch_idxs = np.random.choice(len(x_list), batch_size)\n",
    "        batch_x = np.array([x_list[j] for j in batch_idxs])\n",
    "        batch_y = np.array([gt_y_list[j] for j in batch_idxs])\n",
    "        w, b = cal_step_gradient(batch_x, batch_y, w, b, lr)\n",
    "        loss.append(eval_loss(w, b, x_list, gt_y_list))\n",
    "        \n",
    "    return loss\n",
    "        \n",
    "def find_best_loss():\n",
    "    max_iter = 200\n",
    "    loss_all = []\n",
    "    lr_list = [0.0001,0.001,0.01,0.3,0.1,1,1.3]\n",
    "    for i in range(len(lr_list)):\n",
    "        loss = run(lr_list[i])\n",
    "        loss_all.append(loss)\n",
    "    \n",
    "    x = np.array(range(0,max_iter+1))  #numpy.linspace(开始，终值(含终值))，个数)\n",
    "    loss_all = np.array(loss_all)\n",
    "    print(x.shape)\n",
    "    print(loss_all.shape)\n",
    "    #开始画图\n",
    "    plt.title('Result Analysis')   #标题\n",
    "    plot(x, np.array(loss_all[0]), color='green', label='lr_0.0001')\n",
    "    plot(x, np.array(loss_all[1]), color='red', label='lr_0.001')\n",
    "    plot(x, np.array(loss_all[2]), color='skyblue', label='lr_0.01')\n",
    "    plot(x, np.array(loss_all[3]), color='black', label='lr_0.3')\n",
    "    plot(x, np.array(loss_all[4]), color='gray', label='lr_0.1')\n",
    "    plot(x, np.array(loss_all[5]), color='yellow', label='lr_1')\n",
    "    plot(x, np.array(loss_all[6]), color='pink', label='lr_1.3')\n",
    "    plt.legend() # 显示图例\n",
    "\n",
    "    plt.xlabel('iteration times')\n",
    "    plt.ylabel('loss')\n",
    "    plt.show()\n",
    "    #python 一个折线图绘制多个曲线\n",
    "           \n",
    "#load data from file导入txt数据\n",
    "def load_data(filename):\n",
    "    dataset = []\n",
    "    label = []\n",
    "    file = open(filename)\n",
    "    for line in file.readlines():\n",
    "        lineArr = line.strip().split('\\t')\n",
    "        dataset.append(lineArr[:2])\n",
    "        label.append(lineArr[-1])\n",
    "    return np.array(dataset,dtype=np.float64),np.array(label,dtype=np.float64).reshape(-1,1)\n",
    "\n",
    "#reshape(-1,1)表示只固定列为1列,行不知道,自动确定 同理,.reshape(2,-1)表示只确定行,列系统自动确定。\n",
    "\n",
    "\n",
    "def gen_sample_data():\n",
    "    w = random.randint(0, 10) + random.random()\t\t# for noise random.random[0, 1)\n",
    "    b = random.randint(0, 5) + random.random()\n",
    "    num_samples = 100\n",
    "    x_list = []\n",
    "    y_list = []\n",
    "    for i in range(num_samples):\n",
    "        x = random.randint(0, 100) * random.random()\n",
    "        y = w * x + b + random.random() * random.randint(-1, 1)\n",
    "        x_list.append(x)\n",
    "        y_list.append(y)\n",
    "    return np.array(x_list), np.array(y_list), w, b\n",
    "\n",
    "def run(lr):\n",
    "    #x_list, y_list, w, b = gen_sample_data() #由于迭代后要调整学习率与将上次迭代的w,b重新赋值，因此没用采用每次随机生成数据的gen_dample_data\n",
    "    x_list,y_list = load_data('data.txt')\n",
    "    lr = lr\n",
    "    max_iter = 200\n",
    "    batch_size = 50\n",
    "    loss = train(x_list, y_list, batch_size, lr, max_iter)\n",
    "    return loss"
   ]
  },
  {
   "cell_type": "code",
   "execution_count": 6,
   "metadata": {},
   "outputs": [
    {
     "name": "stdout",
     "output_type": "stream",
     "text": [
      "(201,)\n",
      "(7, 201)\n"
     ]
    },
    {
     "name": "stderr",
     "output_type": "stream",
     "text": [
      "/home/bbying/anaconda3/envs/opencv36/lib/python3.6/site-packages/ipykernel_launcher.py:14: RuntimeWarning: overflow encountered in square\n",
      "  \n"
     ]
    },
    {
     "data": {
      "image/png": "[encoded data removed]",
      "text/plain": [
       "<Figure size 432x288 with 1 Axes>"
      ]
     },
     "metadata": {
      "needs_background": "light"
     },
     "output_type": "display_data"
    }
   ],
   "source": [
    "if __name__ == '__main__':\t# 跑.py的时候，跑main下面的；被导入当模块时，main下面不跑，其他当函数调\n",
    "    find_best_loss()"
   ]
  },
  {
   "cell_type": "code",
   "execution_count": null,
   "metadata": {},
   "outputs": [],
   "source": []
  }
 ],
 "metadata": {
  "kernelspec": {
   "display_name": "Python 3",
   "language": "python",
   "name": "python3"
  },
  "language_info": {
   "codemirror_mode": {
    "name": "ipython",
    "version": 3
   },
   "file_extension": ".py",
   "mimetype": "text/x-python",
   "name": "python",
   "nbconvert_exporter": "python",
   "pygments_lexer": "ipython3",
   "version": "3.6.8"
  }
 },
 "nbformat": 4,
 "nbformat_minor": 2
}
